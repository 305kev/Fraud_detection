{
 "cells": [
  {
   "cell_type": "code",
   "execution_count": 5,
   "metadata": {
    "collapsed": true
   },
   "outputs": [],
   "source": [
    "from src.database import mongobd_insert\n",
    "from pymongo import MongoClient"
   ]
  },
  {
   "cell_type": "code",
   "execution_count": 3,
   "metadata": {
    "collapsed": true
   },
   "outputs": [],
   "source": [
    "json = {\"author\": \"Mike\",\n",
    "...         \"text\": \"My first blog post!\",\n",
    "...         \"tags\": [\"mongodb\", \"python\", \"pymongo\"],\n",
    "...         }"
   ]
  },
  {
   "cell_type": "code",
   "execution_count": 4,
   "metadata": {},
   "outputs": [
    {
     "data": {
      "text/plain": [
       "ObjectId('5a4d7c8498ac78174cd644fe')"
      ]
     },
     "execution_count": 4,
     "metadata": {},
     "output_type": "execute_result"
    }
   ],
   "source": [
    "mongobd_insert(json)"
   ]
  },
  {
   "cell_type": "code",
   "execution_count": 8,
   "metadata": {
    "collapsed": true
   },
   "outputs": [],
   "source": [
    "client = MongoClient()\n",
    "dbname = \"Fraud_prediction\"\n",
    "tablename = \"test\"\n",
    "db = client[dbname]\n",
    "table = db[tablename]"
   ]
  },
  {
   "cell_type": "code",
   "execution_count": 9,
   "metadata": {},
   "outputs": [
    {
     "data": {
      "text/plain": [
       "{u'_id': ObjectId('5a4d8a1c98ac781b5b8ca37e'),\n",
       " u'approx_payout_date': datetime.datetime(2013, 3, 27, 5, 0),\n",
       " u'body_length': 1474,\n",
       " u'channels': 11,\n",
       " u'country': u'US',\n",
       " u'currency': u'USD',\n",
       " u'delivery_method': 0,\n",
       " u'description': u'<p><span style=\"font-size: medium; font-family: \\'book antiqua\\', palatino;\">Come enjoy a night of music and beer tasting at the new Grand Rapids Brewery while we make an effort to create awareness and raise funds for Dream Project Foundation. The night will include music, Grand Rapids Brewery\\'s finest beer to sample, heavy hors d\\'oeuvre\\'s and silent auction of artwork directly from the young artists of Dream House.</span></p>\\r\\n<p>&nbsp;</p>\\r\\n<p>Who We Are:</p>\\r\\n<p>DREAM Project Foundation is a small American 501c3 registered non-profit organization, working to break the cycle of human trafficking through community development. As a small, grass roots organization, we focus primarily on prevention and protection which begins with shelter and continues with education, so those vulnerable are aware of the dangers and able to protect themselves.</p>\\r\\n<p>DREAM Project Foundation was officially founded in 2011 to support the DREAM House children\\'s home based in Thailand on the border of Myanar (Burma). While helping children stay safe from the trafficing is the heart of our mission, we know that in order to end trafficking it must be a collaborative effort for all people and communities.&nbsp;</p>\\r\\n<p>We at DREAM Project Foundation are determined to fight against this atrocity, focusing on the factors that cause people to be vulnerable targets to traffickers, with most of our work based in SE Asia as it is a major international hub of human trafficking.</p>',\n",
       " u'email_domain': u'dreamprojectfoundation.org',\n",
       " u'email_gmail': False,\n",
       " u'email_high_risk': False,\n",
       " u'email_medium_risk': False,\n",
       " u'event_created': datetime.datetime(2013, 2, 19, 16, 26, 33),\n",
       " u'event_end': datetime.datetime(2013, 3, 22, 5, 0),\n",
       " u'event_published': 1361978554,\n",
       " u'event_start': 1363914000,\n",
       " u'fb_published': 0,\n",
       " u'fraud_country': False,\n",
       " u'gts': 537.4,\n",
       " u'has_analytics': 0,\n",
       " u'has_header': nan,\n",
       " u'has_logo': 1,\n",
       " u'listed': u'y',\n",
       " u'name': u'DREAM Project Foundation - Taste of a Better Future',\n",
       " u'name_length': 51,\n",
       " u'num_order': 7,\n",
       " u'num_payouts': 0,\n",
       " u'object_id': 5558108,\n",
       " u'org_desc': u'',\n",
       " u'org_facebook': 13,\n",
       " u'org_name': u'DREAM Project Foundation',\n",
       " u'org_twitter': 13,\n",
       " u'payee_name': u'',\n",
       " u'payout_length': 9,\n",
       " u'payout_type': u'ACH',\n",
       " u'predict': 0.0,\n",
       " u'previous_payouts': {u'address': u'',\n",
       "  u'amount': 500.0,\n",
       "  u'country': u'US',\n",
       "  u'created': u'2013-04-19 03:25:42',\n",
       "  u'event': 5558108,\n",
       "  u'name': u'',\n",
       "  u'state': u'',\n",
       "  u'uid': 52778636,\n",
       "  u'zip_code': u''},\n",
       " u'sale_duration': 22,\n",
       " u'sale_duration2': 30,\n",
       " u'show_map': 1,\n",
       " u'ticket_types': {u'availability': 1,\n",
       "  u'cost': 50.0,\n",
       "  u'event_id': 5558108,\n",
       "  u'quantity_sold': 10,\n",
       "  u'quantity_total': 125},\n",
       " u'user_age': 0,\n",
       " u'user_created': 1361290985,\n",
       " u'user_type': 1,\n",
       " u'venue_address': u'1 Ionia Avenue Southwest',\n",
       " u'venue_country': u'US',\n",
       " u'venue_latitude': 42.9630578,\n",
       " u'venue_longitude': -85.6706147,\n",
       " u'venue_missing': False,\n",
       " u'venue_name': u'Grand Rapids Brewing Co',\n",
       " u'venue_state': u'MI'}"
      ]
     },
     "execution_count": 9,
     "metadata": {},
     "output_type": "execute_result"
    }
   ],
   "source": [
    "table.find_one()"
   ]
  },
  {
   "cell_type": "code",
   "execution_count": null,
   "metadata": {
    "collapsed": true
   },
   "outputs": [],
   "source": []
  }
 ],
 "metadata": {
  "kernelspec": {
   "display_name": "Python 2",
   "language": "python",
   "name": "python2"
  },
  "language_info": {
   "codemirror_mode": {
    "name": "ipython",
    "version": 2
   },
   "file_extension": ".py",
   "mimetype": "text/x-python",
   "name": "python",
   "nbconvert_exporter": "python",
   "pygments_lexer": "ipython2",
   "version": "2.7.13"
  }
 },
 "nbformat": 4,
 "nbformat_minor": 2
}
